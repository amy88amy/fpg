{
 "cells": [
  {
   "cell_type": "code",
   "execution_count": 1,
   "metadata": {},
   "outputs": [
    {
     "name": "stderr",
     "output_type": "stream",
     "text": [
      "unable to import 'smart_open.gcs', disabling that module\n"
     ]
    }
   ],
   "source": [
    "import random\n",
    "from tqdm import tqdm\n",
    "import warnings\n",
    "import pandas as pd\n",
    "import numpy as np\n",
    "import networkx as nx\n",
    "from scipy.sparse import hstack\n",
    "from gensim.models import Word2Vec\n",
    "from sklearn.metrics import recall_score, precision_score, f1_score, confusion_matrix \n",
    "from sklearn.preprocessing import LabelEncoder, OneHotEncoder\n",
    "from sklearn.model_selection import train_test_split\n",
    "import matplotlib.pyplot as plt\n",
    "%matplotlib inline\n",
    "warnings.filterwarnings('ignore')\n",
    "warnings.simplefilter(action='ignore', category=FutureWarning)"
   ]
  },
  {
   "cell_type": "code",
   "execution_count": 2,
   "metadata": {},
   "outputs": [
    {
     "name": "stdout",
     "output_type": "stream",
     "text": [
      "List of feature columns used: Index(['step', 'customer', 'age', 'gender', 'merchant', 'category',\n",
      "       'amount_cat', 'fraud'],\n",
      "      dtype='object')\n"
     ]
    }
   ],
   "source": [
    "data_path = 'bs140513_032310.csv'\n",
    "raw_data = pd.read_csv(data_path)\n",
    "\n",
    "# from `bank_sim_dat_exp.ipynb` previous analysis \n",
    "def cat_amount(v, mean, median):\n",
    "    res = \"\"\n",
    "    if v > mean:\n",
    "        res = \"above_mean\"\n",
    "    elif v < median:\n",
    "        res = \"below_median\"\n",
    "    elif v >= median and v <= mean:\n",
    "        res = \"in_between\"\n",
    "    return res\n",
    "\n",
    "amount_data = raw_data[\"amount\"]\n",
    "mean_amount = amount_data.mean()\n",
    "median_amount = amount_data.median()\n",
    "raw_data[\"amount_cat\"] = np.vectorize(cat_amount)\\\n",
    "(raw_data[\"amount\"].values, mean_amount, median_amount)\n",
    "\n",
    "pre_data = raw_data[[\"step\", \"customer\", \"age\", \"gender\", \"merchant\", \"category\", \"amount_cat\", \"fraud\"]]\n",
    "fraud_data = pre_data[pre_data[\"fraud\"] == 1]\n",
    "non_fraud_data = pre_data[pre_data[\"fraud\"] == 0]\n",
    "\n",
    "feat_cols = fraud_data.columns\n",
    "print(\"List of feature columns used: {}\".format(feat_cols))\n",
    "\n",
    "f_train, f_test = train_test_split(fraud_data, test_size=0.2)\n",
    "nf_train, nf_test = train_test_split(non_fraud_data, test_size=0.2)\n",
    "\n",
    "train_df = pd.concat([f_train, nf_train]).sample(frac = 1)\n",
    "test_df = pd.concat([f_test, nf_test]).sample(frac = 1)\n"
   ]
  },
  {
   "cell_type": "code",
   "execution_count": 3,
   "metadata": {},
   "outputs": [],
   "source": [
    "def get_randomwalk(node, path_length, graph):\n",
    "    random_walk = [node]\n",
    "    \n",
    "    for i in range(path_length-1):\n",
    "        temp = list(graph.neighbors(node))\n",
    "        temp = list(set(temp) - set(random_walk))    \n",
    "        if len(temp) == 0:\n",
    "            break\n",
    "\n",
    "        random_node = random.choice(temp)\n",
    "        random_walk.append(random_node)\n",
    "        node = random_node\n",
    "        \n",
    "    return random_walk"
   ]
  },
  {
   "cell_type": "code",
   "execution_count": 4,
   "metadata": {},
   "outputs": [
    {
     "name": "stderr",
     "output_type": "stream",
     "text": [
      "100%|██████████| 4162/4162 [00:25<00:00, 166.36it/s]\n",
      "100%|██████████| 4154/4154 [00:24<00:00, 168.10it/s]\n"
     ]
    }
   ],
   "source": [
    "train_G = nx.from_pandas_edgelist(train_df, source=\"customer\", target=\"merchant\",\\\n",
    "                                  edge_attr=True, create_using=nx.Graph())\n",
    "test_G = nx.from_pandas_edgelist(test_df, source=\"customer\", target=\"merchant\",\\\n",
    "                                 edge_attr=True, create_using=nx.Graph())\n",
    "\n",
    "# train_G = nx.from_pandas_edgelist(train_df, source=\"customer\", target=\"merchant\",\\\n",
    "#                                   edge_attr=True, create_using=nx.Graph())\n",
    "# test_G = nx.from_pandas_edgelist(test_df, source=\"customer\", target=\"merchant\",\\\n",
    "#                                  edge_attr=True, create_using=nx.Graph())\n",
    "\n",
    "\n",
    "train_nodes = list(train_G.nodes())\n",
    "test_nodes = list(test_G.nodes())\n",
    "\n",
    "train_walks = []\n",
    "for n in tqdm(train_nodes):\n",
    "    for i in range(5):\n",
    "        train_walks.append(get_randomwalk(n, 10, train_G))\n",
    "        \n",
    "test_walks = []\n",
    "for n in tqdm(test_nodes):\n",
    "    for i in range(5):\n",
    "        test_walks.append(get_randomwalk(n, 10, test_G))"
   ]
  },
  {
   "cell_type": "code",
   "execution_count": 5,
   "metadata": {},
   "outputs": [
    {
     "data": {
      "text/plain": [
       "(2833425, 4161980)"
      ]
     },
     "execution_count": 5,
     "metadata": {},
     "output_type": "execute_result"
    }
   ],
   "source": [
    "model = Word2Vec(window = 4, sg = 1, hs = 0,\n",
    "                 negative = 10, # for negative sampling\n",
    "                 alpha=0.03, min_alpha=0.0007,\n",
    "                 seed = 14)\n",
    "\n",
    "model.build_vocab(train_walks + test_walks, progress_per=2)\n",
    "model.train(train_walks, total_examples = model.corpus_count, epochs=20, report_delay=1)"
   ]
  },
  {
   "cell_type": "code",
   "execution_count": 6,
   "metadata": {},
   "outputs": [],
   "source": [
    "train_graph_feat = model.wv[train_nodes]\n",
    "test_graph_feat = model.wv[test_nodes]\n",
    "\n",
    "train_graph_dict = dict(zip(train_nodes, train_graph_feat))\n",
    "test_graph_dict = dict(zip(test_nodes, test_graph_feat))"
   ]
  },
  {
   "cell_type": "code",
   "execution_count": 7,
   "metadata": {},
   "outputs": [],
   "source": [
    "# Map the nodes with their mass weight\n",
    "def map_val(row, mass_map):\n",
    "    return mass_map[row[0]]\n",
    "# Map all customers/source\n",
    "# Training data\n",
    "train_customer_vec = np.apply_along_axis(map_val, 1, train_df[\"customer\"].values.reshape(-1, 1),\\\n",
    "                                         train_graph_dict)\n",
    "# Test data\n",
    "test_customer_vec = np.apply_along_axis(map_val, 1, test_df[\"customer\"].values.reshape(-1, 1),\\\n",
    "                                        test_graph_dict)\n",
    "# Map all merchants/targets\n",
    "# Training data\n",
    "train_merchant_vec = np.apply_along_axis(map_val, 1, train_df[\"merchant\"].values.reshape(-1, 1),\\\n",
    "                                         train_graph_dict)\n",
    "# Test data\n",
    "test_merchant_vec = np.apply_along_axis(map_val, 1, test_df[\"merchant\"].values.reshape(-1, 1),\\\n",
    "                                        test_graph_dict)\n",
    "# Select the required columns\n",
    "train_data = train_df[[\"step\", \"age\", \"category\", \"amount_cat\", \"fraud\"]]\n",
    "test_data = test_df[[\"step\", \"age\", \"category\", \"amount_cat\", \"fraud\"]]"
   ]
  },
  {
   "cell_type": "code",
   "execution_count": 8,
   "metadata": {},
   "outputs": [],
   "source": [
    "cat_cols = [\"step\", \"age\", \"category\", \"amount_cat\"]\n",
    "\n",
    "X_train = train_data[[\"step\", \"age\", \"category\", \"amount_cat\"]].values\n",
    "y_train = train_data[\"fraud\"].values\n",
    "\n",
    "X_test = test_data[[\"step\", \"age\", \"category\", \"amount_cat\"]].values\n",
    "y_test = test_data[\"fraud\"].values\n",
    "\n",
    "X_train_enc = np.array([[None] * len(cat_cols)] * X_train.shape[0])\n",
    "# Transform categorical columns for training data\n",
    "label_ens = []\n",
    "for i in range(0, len(cat_cols)):\n",
    "    en = LabelEncoder()\n",
    "    X_train_enc[:, i] = en.fit_transform(X_train[:, i])\n",
    "    label_ens.insert(i, en)\n",
    "\n",
    "one_hot_en = OneHotEncoder(handle_unknown='ignore')\n",
    "X_train_arr = hstack((one_hot_en.fit_transform(X_train_enc[:, 0:len(cat_cols)]),\\\n",
    "                     train_customer_vec, train_merchant_vec))\n",
    "\n",
    "X_test_enc = np.array([[None] * len(cat_cols)] * X_test.shape[0])\n",
    "# Transform categorical columns for test data\n",
    "for i in range(0, len(cat_cols)):\n",
    "    X_test_enc[:, i] = label_ens[i].transform(X_test[:, i])\n",
    "\n",
    "X_test_arr = hstack((one_hot_en.transform(X_test_enc[:, 0:len(cat_cols)]),\\\n",
    "                    test_customer_vec, test_merchant_vec))"
   ]
  },
  {
   "cell_type": "code",
   "execution_count": 13,
   "metadata": {},
   "outputs": [],
   "source": [
    "dot = []\n",
    "for i in range(len(train_customer_vec)):\n",
    "    dot.append(np.dot(train_customer_vec[i], train_merchant_vec[i]))\n",
    "dot = np.array(dot).reshape(-1, 1) "
   ]
  },
  {
   "cell_type": "code",
   "execution_count": 14,
   "metadata": {},
   "outputs": [
    {
     "data": {
      "image/png": "[encoded data removed]",
      "text/plain": [
       "<Figure size 720x720 with 1 Axes>"
      ]
     },
     "metadata": {
      "needs_background": "light"
     },
     "output_type": "display_data"
    },
    {
     "data": {
      "text/plain": [
       "<Figure size 432x288 with 0 Axes>"
      ]
     },
     "metadata": {},
     "output_type": "display_data"
    }
   ],
   "source": [
    "from sklearn.cluster import KMeans\n",
    "kmeans50 = KMeans(n_clusters=50, random_state=0).fit(dot)\n",
    "kmeans50.labels_\n",
    "\n",
    "fig = plt.gcf()\n",
    "fig.set_size_inches(10, 10)\n",
    "\n",
    "centers = kmeans50.cluster_centers_\n",
    "# create scatter plot for samples from each class\n",
    "for class_value in range(50):\n",
    "    # get row indexes for samples with this class\n",
    "    i = np.where(kmeans50.labels_ == class_value)\n",
    "    # create scatter of these samples\n",
    "    y = [class_value for i in range(len(i[0]))]\n",
    "    plt.scatter(y, dot[i], cmap='PuBuGn')\n",
    "    plt.scatter(class_value, centers[class_value], label=class_value, c=\"black\", marker=\"s\")\n",
    "\n",
    "# show the plot\n",
    "plt.show()\n",
    "fig.savefig(\"kmeans_50.jpg\")\n",
    "plt.clf()"
   ]
  },
  {
   "cell_type": "code",
   "execution_count": 15,
   "metadata": {},
   "outputs": [
    {
     "data": {
      "image/png": "[encoded data removed]",
      "text/plain": [
       "<Figure size 720x720 with 1 Axes>"
      ]
     },
     "metadata": {
      "needs_background": "light"
     },
     "output_type": "display_data"
    },
    {
     "data": {
      "text/plain": [
       "<Figure size 432x288 with 0 Axes>"
      ]
     },
     "metadata": {},
     "output_type": "display_data"
    }
   ],
   "source": [
    "from sklearn.cluster import KMeans\n",
    "kmeans10 = KMeans(n_clusters=10, random_state=0).fit(dot)\n",
    "kmeans10.labels_\n",
    "\n",
    "fig = plt.gcf()\n",
    "fig.set_size_inches(10, 10)\n",
    "\n",
    "centers = kmeans10.cluster_centers_\n",
    "points = kmeans10.labels_\n",
    "\n",
    "# create scatter plot for samples from each class\n",
    "for class_value in range(10):\n",
    "    # get row indexes for samples with this class\n",
    "    i = np.where(kmeans10.labels_ == class_value)\n",
    "    # create scatter of these samples\n",
    "#     plt.scatter(X[i, -2], X[i, -1], cmap='PuBuGn')\n",
    "    y = [class_value for i in range(len(i[0]))]\n",
    "    plt.scatter(y, dot[i], cmap='PuBuGn')\n",
    "    plt.scatter(class_value, centers[class_value], label=class_value, c=\"black\", marker=\"s\")\n",
    "#     plt.plot(dot[i], class_value)\n",
    "# show the plot\n",
    "plt.show()\n",
    "fig.savefig(\"kmeans_10.jpg\")\n",
    "plt.clf()"
   ]
  },
  {
   "cell_type": "code",
   "execution_count": 16,
   "metadata": {},
   "outputs": [
    {
     "data": {
      "image/png": "[encoded data removed]",
      "text/plain": [
       "<Figure size 720x720 with 1 Axes>"
      ]
     },
     "metadata": {
      "needs_background": "light"
     },
     "output_type": "display_data"
    },
    {
     "data": {
      "text/plain": [
       "<Figure size 432x288 with 0 Axes>"
      ]
     },
     "metadata": {},
     "output_type": "display_data"
    }
   ],
   "source": [
    "from sklearn.cluster import KMeans\n",
    "kmeans20 = KMeans(n_clusters=20, random_state=0).fit(dot)\n",
    "kmeans20.labels_\n",
    "\n",
    "fig = plt.gcf()\n",
    "fig.set_size_inches(10, 10)\n",
    "\n",
    "centers = kmeans20.cluster_centers_\n",
    "points = kmeans20.labels_\n",
    "\n",
    "# create scatter plot for samples from each class\n",
    "for class_value in range(10):\n",
    "    # get row indexes for samples with this class\n",
    "    i = np.where(kmeans20.labels_ == class_value)\n",
    "    # create scatter of these samples\n",
    "#     plt.scatter(X[i, -2], X[i, -1], cmap='PuBuGn')\n",
    "    y = [class_value for i in range(len(i[0]))]\n",
    "    plt.scatter(y, dot[i], cmap='PuBuGn')\n",
    "    plt.scatter(class_value, centers[class_value], label=class_value, c=\"black\", marker=\"s\")\n",
    "#     plt.plot(dot[i], class_value)\n",
    "# show the plot\n",
    "plt.show()\n",
    "fig.savefig(\"kmeans_20.jpg\")\n",
    "plt.clf()"
   ]
  },
  {
   "cell_type": "code",
   "execution_count": 50,
   "metadata": {},
   "outputs": [
    {
     "name": "stdout",
     "output_type": "stream",
     "text": [
      "[-1  0  1  2  3  4  5  6  7  8  9 10 11 12 13 14 15 16 17 18 19 20 21 22\n",
      " 23 24 25 26 27 28 29 30 31 32 33 34 35 36 37 38 39 40 41 42 43 44 45 46\n",
      " 47 48 49 50 51 52 53 54 55 56 57 58 59 60 61 62 63]\n"
     ]
    },
    {
     "data": {
      "image/png": "[encoded data removed]",
      "text/plain": [
       "<Figure size 720x720 with 1 Axes>"
      ]
     },
     "metadata": {
      "needs_background": "light"
     },
     "output_type": "display_data"
    }
   ],
   "source": [
    "X = dot[:10000]\n",
    "from sklearn.cluster import OPTICS\n",
    "optics = OPTICS(min_samples=50).fit(X)\n",
    "l = optics.labels_\n",
    "\n",
    "print(np.unique(l))\n",
    "\n",
    "fig = plt.gcf()\n",
    "fig.set_size_inches(10, 10)\n",
    "\n",
    "# create scatter plot for samples from each class\n",
    "for class_value in range(0, l.max(), 1):\n",
    "    # get row indexes for samples with this class\n",
    "    i = np.where(l == class_value)\n",
    "    # create scatter of these samples\n",
    "    y = [class_value for i in range(len(i[0]))]\n",
    "    plt.scatter(y, X[i], cmap='PuBuGn')\n",
    "\n",
    "i = np.where(l == -1)\n",
    "# create scatter of these samples\n",
    "y = [-1 for i in range(len(i[0]))]\n",
    "plt.scatter(y, dot[i], c='black')\n",
    "\n",
    "# show the plot\n",
    "plt.show()\n",
    "fig.savefig(\"optics_50.jpg\")\n",
    "plt.clf()"
   ]
  },
  {
   "cell_type": "code",
   "execution_count": 17,
   "metadata": {},
   "outputs": [
    {
     "name": "stdout",
     "output_type": "stream",
     "text": [
      "[ -1   0   1   2   3   4   5   6   7   8   9  10  11  12  13  14  15  16\n",
      "  17  18  19  20  21  22  23  24  25  26  27  28  29  30  31  32  33  34\n",
      "  35  36  37  38  39  40  41  42  43  44  45  46  47  48  49  50  51  52\n",
      "  53  54  55  56  57  58  59  60  61  62  63  64  65  66  67  68  69  70\n",
      "  71  72  73  74  75  76  77  78  79  80  81  82  83  84  85  86  87  88\n",
      "  89  90  91  92  93  94  95  96  97  98  99 100 101 102 103 104 105 106\n",
      " 107 108 109 110 111 112 113 114 115 116 117 118 119 120 121 122 123 124\n",
      " 125 126 127 128 129 130 131 132 133 134 135 136 137 138 139 140 141 142\n",
      " 143 144 145 146 147 148 149 150 151 152 153 154 155 156 157 158 159 160\n",
      " 161 162 163 164 165 166 167 168 169 170 171 172 173 174 175 176 177 178\n",
      " 179 180 181 182 183 184 185 186 187 188 189 190 191 192 193 194 195 196\n",
      " 197 198 199 200 201 202 203 204 205 206 207 208 209 210 211 212 213 214\n",
      " 215 216 217 218 219 220 221 222 223 224 225 226 227 228 229 230 231 232\n",
      " 233 234 235 236 237 238 239 240 241 242 243 244 245 246 247 248 249 250\n",
      " 251 252 253 254 255 256 257 258 259 260 261 262 263 264 265 266 267 268\n",
      " 269 270 271 272 273 274 275 276 277 278 279 280 281 282 283 284 285 286\n",
      " 287 288 289 290 291 292 293 294 295 296 297 298 299 300 301 302 303 304\n",
      " 305 306 307 308 309 310 311 312 313 314 315 316 317 318 319 320 321 322\n",
      " 323 324 325 326 327 328 329 330 331 332 333 334 335 336 337 338 339 340\n",
      " 341 342 343 344 345 346 347 348 349 350 351 352 353 354 355 356 357 358\n",
      " 359 360 361 362 363 364 365 366 367 368 369 370 371 372 373 374 375 376\n",
      " 377 378 379 380 381 382 383 384 385 386 387 388 389 390 391 392 393 394\n",
      " 395 396 397 398 399 400 401 402 403 404 405 406 407 408 409 410 411 412\n",
      " 413 414 415 416 417 418 419 420 421 422 423 424 425 426 427 428 429 430\n",
      " 431 432 433 434 435 436 437 438 439 440 441 442 443 444]\n"
     ]
    },
    {
     "data": {
      "image/png": "[encoded data removed]",
      "text/plain": [
       "<Figure size 720x720 with 1 Axes>"
      ]
     },
     "metadata": {
      "needs_background": "light"
     },
     "output_type": "display_data"
    },
    {
     "data": {
      "text/plain": [
       "<Figure size 432x288 with 0 Axes>"
      ]
     },
     "metadata": {},
     "output_type": "display_data"
    }
   ],
   "source": [
    "X = dot[:10000]\n",
    "from sklearn.cluster import OPTICS\n",
    "optics = OPTICS(min_samples=10).fit(X)\n",
    "l = optics.labels_\n",
    "\n",
    "print(np.unique(l))\n",
    "\n",
    "fig = plt.gcf()\n",
    "fig.set_size_inches(10, 10)\n",
    "\n",
    "# create scatter plot for samples from each class\n",
    "for class_value in range(0, l.max(), 1):\n",
    "    # get row indexes for samples with this class\n",
    "    i = np.where(l == class_value)\n",
    "    # create scatter of these samples\n",
    "    y = [class_value for i in range(len(i[0]))]\n",
    "    plt.scatter(y, X[i], cmap='PuBuGn')\n",
    "\n",
    "i = np.where(l == -1)\n",
    "# create scatter of these samples\n",
    "y = [-1 for i in range(len(i[0]))]\n",
    "plt.scatter(y, dot[i], c='black')\n",
    "\n",
    "# show the plot\n",
    "plt.show()\n",
    "fig.savefig(\"optics_10.jpg\")\n",
    "plt.clf()"
   ]
  },
  {
   "cell_type": "code",
   "execution_count": 18,
   "metadata": {},
   "outputs": [
    {
     "name": "stdout",
     "output_type": "stream",
     "text": [
      "[0 1 2 3 4 5 6 7 8 9]\n"
     ]
    },
    {
     "data": {
      "image/png": "[encoded data removed]",
      "text/plain": [
       "<Figure size 720x720 with 1 Axes>"
      ]
     },
     "metadata": {
      "needs_background": "light"
     },
     "output_type": "display_data"
    },
    {
     "data": {
      "text/plain": [
       "<Figure size 432x288 with 0 Axes>"
      ]
     },
     "metadata": {},
     "output_type": "display_data"
    }
   ],
   "source": [
    "from sklearn.cluster import Birch\n",
    "brc = Birch(n_clusters=None).fit(dot)\n",
    "l = brc.predict(dot)\n",
    "print(np.unique(l))\n",
    "\n",
    "fig = plt.gcf()\n",
    "fig.set_size_inches(10, 10)\n",
    "centers = brc.subcluster_centers_\n",
    "\n",
    "# create scatter plot for samples from each class\n",
    "for class_value in range(0, l.max(), 1):\n",
    "    # get row indexes for samples with this class\n",
    "    i = np.where(l == class_value)\n",
    "    # create scatter of these samples\n",
    "    y = [class_value for i in range(len(i[0]))]\n",
    "    plt.scatter(y, dot[i], cmap='PuBuGn')\n",
    "    plt.scatter(class_value, centers[class_value], label=class_value, c=\"black\", marker=\"s\")\n",
    "# show the plot\n",
    "plt.show()\n",
    "fig.savefig(\"Birch.jpg\")\n",
    "plt.clf()"
   ]
  },
  {
   "cell_type": "code",
   "execution_count": 19,
   "metadata": {},
   "outputs": [
    {
     "name": "stdout",
     "output_type": "stream",
     "text": [
      "[0 1 2 3 4 5 6 7 8]\n"
     ]
    },
    {
     "data": {
      "image/png": "[encoded data removed]",
      "text/plain": [
       "<Figure size 720x720 with 1 Axes>"
      ]
     },
     "metadata": {
      "needs_background": "light"
     },
     "output_type": "display_data"
    },
    {
     "data": {
      "text/plain": [
       "<Figure size 432x288 with 0 Axes>"
      ]
     },
     "metadata": {},
     "output_type": "display_data"
    }
   ],
   "source": [
    "X = dot[:10000]\n",
    "from sklearn.cluster import AgglomerativeClustering\n",
    "aglo = AgglomerativeClustering(n_clusters=9).fit(X)\n",
    "\n",
    "l = aglo.labels_\n",
    "print(np.unique(l))\n",
    "\n",
    "fig = plt.gcf()\n",
    "fig.set_size_inches(10, 10)\n",
    "\n",
    "# create scatter plot for samples from each class\n",
    "for class_value in range(0, l.max(), 1):\n",
    "    # get row indexes for samples with this class\n",
    "    i = np.where(l == class_value)\n",
    "    # create scatter of these samples\n",
    "    y = [class_value for i in range(len(i[0]))]\n",
    "    plt.scatter(y, X[i], cmap='PuBuGn')\n",
    "# show the plot\n",
    "plt.show()\n",
    "fig.savefig(\"AgglomerativeClustering.jpg\")\n",
    "plt.clf()"
   ]
  },
  {
   "cell_type": "code",
   "execution_count": 57,
   "metadata": {},
   "outputs": [
    {
     "data": {
      "image/png": "[encoded data removed]",
      "text/plain": [
       "<Figure size 720x720 with 1 Axes>"
      ]
     },
     "metadata": {
      "needs_background": "light"
     },
     "output_type": "display_data"
    }
   ],
   "source": [
    "from scipy.cluster.hierarchy import dendrogram\n",
    "def plot_dendrogram(model, **kwargs):\n",
    "\n",
    "    # Children of hierarchical clustering\n",
    "    children = model.children_\n",
    "\n",
    "    # Distances between each pair of children\n",
    "    # Since we don't have this information, we can use a uniform one for plotting\n",
    "    distance = np.arange(children.shape[0])\n",
    "\n",
    "    # The number of observations contained in each cluster level\n",
    "    no_of_observations = np.arange(2, children.shape[0]+2)\n",
    "\n",
    "    # Create linkage matrix and then plot the dendrogram\n",
    "    linkage_matrix = np.column_stack([children, distance, no_of_observations]).astype(float)\n",
    "\n",
    "    # Plot the corresponding dendrogram\n",
    "    dendrogram(linkage_matrix, **kwargs)\n",
    "\n",
    "fig = plt.gcf()\n",
    "fig.set_size_inches(10, 10)\n",
    "plot_dendrogram(aglo, labels=aglo.labels_)\n",
    "plt.show()"
   ]
  },
  {
   "cell_type": "code",
   "execution_count": 21,
   "metadata": {},
   "outputs": [
    {
     "data": {
      "text/plain": [
       "array([0], dtype=int64)"
      ]
     },
     "execution_count": 21,
     "metadata": {},
     "output_type": "execute_result"
    }
   ],
   "source": [
    "X = dot[:30000]\n",
    "np.random.shuffle(X)\n",
    "X.reshape(-1, 1)\n",
    "from sklearn.cluster import DBSCAN\n",
    "dbscan = DBSCAN(eps=3, min_samples=10).fit(X)\n",
    "dbscan.labels_\n",
    "np.unique(dbscan.labels_)"
   ]
  }
 ],
 "metadata": {
  "kernelspec": {
   "display_name": "Python 3",
   "language": "python",
   "name": "python3"
  },
  "language_info": {
   "codemirror_mode": {
    "name": "ipython",
    "version": 3
   },
   "file_extension": ".py",
   "mimetype": "text/x-python",
   "name": "python",
   "nbconvert_exporter": "python",
   "pygments_lexer": "ipython3",
   "version": "3.7.3"
  }
 },
 "nbformat": 4,
 "nbformat_minor": 2
}
