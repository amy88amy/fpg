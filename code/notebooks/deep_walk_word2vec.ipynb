{
 "cells": [
  {
   "cell_type": "code",
   "execution_count": 1,
   "metadata": {
    "colab": {},
    "colab_type": "code",
    "id": "oWQpRRaX2ErT"
   },
   "outputs": [],
   "source": [
    "import random\n",
    "import warnings\n",
    "\n",
    "from tqdm import tqdm\n",
    "import pandas as pd\n",
    "import numpy as np\n",
    "import xgboost as xgb\n",
    "import networkx as nx\n",
    "from scipy.sparse import hstack\n",
    "from gensim.models import Word2Vec\n",
    "from sklearn.metrics import recall_score, precision_score, f1_score, confusion_matrix \n",
    "from sklearn.preprocessing import LabelEncoder, OneHotEncoder\n",
    "from sklearn.model_selection import train_test_split\n",
    "from imblearn.over_sampling import SMOTE\n",
    "import matplotlib.pyplot as plt\n",
    "%matplotlib inline\n",
    "warnings.filterwarnings('ignore')\n",
    "warnings.simplefilter(action='ignore', category=FutureWarning)"
   ]
  },
  {
   "cell_type": "code",
   "execution_count": 3,
   "metadata": {
    "colab": {
     "base_uri": "https://localhost:8080/",
     "height": 51
    },
    "colab_type": "code",
    "id": "ru5Ir4m13xYc",
    "outputId": "cf893e4f-c22d-491b-8b3c-0e2c04739bac"
   },
   "outputs": [
    {
     "name": "stdout",
     "output_type": "stream",
     "text": [
      "List of feature columns used: Index(['step', 'customer', 'age', 'gender', 'merchant', 'category',\n",
      "       'amount_cat', 'fraud'],\n",
      "      dtype='object')\n"
     ]
    }
   ],
   "source": [
    "# Set the base as per your system\n",
    "base_path = \"../../data\"\n",
    "data_path = base_path + \"/bs140513_032310.csv\"\n",
    "raw_data = pd.read_csv(data_path)\n",
    "\n",
    "# from `bank_sim_dat_exp.ipynb` previous analysis \n",
    "def cat_amount(v, mean, median):\n",
    "    res = \"\"\n",
    "    if v > mean:\n",
    "        res = \"above_mean\"\n",
    "    elif v < median:\n",
    "        res = \"below_median\"\n",
    "    elif v >= median and v <= mean:\n",
    "        res = \"in_between\"\n",
    "    return res\n",
    "\n",
    "amount_data = raw_data[\"amount\"]\n",
    "mean_amount = amount_data.mean()\n",
    "median_amount = amount_data.median()\n",
    "raw_data[\"amount_cat\"] = np.vectorize(cat_amount)\\\n",
    "(raw_data[\"amount\"].values, mean_amount, median_amount)\n",
    "\n",
    "pre_data = raw_data[[\"step\", \"customer\", \"age\", \"gender\", \"merchant\", \"category\", \"amount_cat\", \"fraud\"]]\n",
    "fraud_data = pre_data[pre_data[\"fraud\"] == 1]\n",
    "non_fraud_data = pre_data[pre_data[\"fraud\"] == 0]\n",
    "\n",
    "feat_cols = fraud_data.columns\n",
    "print(\"List of feature columns used: {}\".format(feat_cols))\n",
    "\n",
    "f_train, f_test = train_test_split(fraud_data, test_size=0.2)\n",
    "nf_train, nf_test = train_test_split(non_fraud_data, test_size=0.2)\n",
    "\n",
    "train_df = pd.concat([f_train, nf_train]).sample(frac = 1)\n",
    "test_df = pd.concat([f_test, f_train]).sample(frac = 1)"
   ]
  },
  {
   "cell_type": "code",
   "execution_count": 4,
   "metadata": {
    "colab": {},
    "colab_type": "code",
    "id": "FpdAjuDH4Rr8"
   },
   "outputs": [],
   "source": [
    "def get_randomwalk(node, path_length, graph):\n",
    "    random_walk = [node]\n",
    "    \n",
    "    for i in range(path_length-1):\n",
    "        temp = list(graph.neighbors(node))\n",
    "        temp = list(set(temp) - set(random_walk))    \n",
    "        if len(temp) == 0:\n",
    "            break\n",
    "\n",
    "        random_node = random.choice(temp)\n",
    "        random_walk.append(random_node)\n",
    "        node = random_node\n",
    "        \n",
    "    return random_walk"
   ]
  },
  {
   "cell_type": "code",
   "execution_count": 5,
   "metadata": {
    "colab": {
     "base_uri": "https://localhost:8080/",
     "height": 51
    },
    "colab_type": "code",
    "id": "D27G-Hza4S5r",
    "outputId": "c1019e10-bcc8-4fac-d8a5-c0d64cd9ba11"
   },
   "outputs": [
    {
     "name": "stderr",
     "output_type": "stream",
     "text": [
      "100%|██████████| 4162/4162 [00:22<00:00, 182.75it/s]\n",
      "100%|██████████| 1513/1513 [00:00<00:00, 1573.63it/s]\n"
     ]
    }
   ],
   "source": [
    "train_G = nx.from_pandas_edgelist(train_df, source=\"customer\", target=\"merchant\",\\\n",
    "                                  edge_attr=True, create_using=nx.Graph())\n",
    "test_G = nx.from_pandas_edgelist(test_df, source=\"customer\", target=\"merchant\",\\\n",
    "                                 edge_attr=True, create_using=nx.Graph())\n",
    "train_nodes = list(train_G.nodes())\n",
    "test_nodes = list(test_G.nodes())\n",
    "\n",
    "train_walks = []\n",
    "for n in tqdm(train_nodes):\n",
    "    for i in range(5):\n",
    "        train_walks.append(get_randomwalk(n, 10, train_G))\n",
    "        \n",
    "test_walks = []\n",
    "for n in tqdm(test_nodes):\n",
    "    for i in range(5):\n",
    "        test_walks.append(get_randomwalk(n, 10, test_G))"
   ]
  },
  {
   "cell_type": "code",
   "execution_count": 6,
   "metadata": {
    "colab": {
     "base_uri": "https://localhost:8080/",
     "height": 34
    },
    "colab_type": "code",
    "id": "j73adO2o4d4T",
    "outputId": "04e00293-8abd-4500-b35d-4ce51dec6afa"
   },
   "outputs": [
    {
     "data": {
      "text/plain": [
       "(2807887, 4161700)"
      ]
     },
     "execution_count": 6,
     "metadata": {},
     "output_type": "execute_result"
    }
   ],
   "source": [
    "model = Word2Vec(window = 4, sg = 1, hs = 0,\n",
    "                 negative = 10, # for negative sampling\n",
    "                 alpha=0.03, min_alpha=0.0007,\n",
    "                 seed = 14)\n",
    "\n",
    "model.build_vocab(train_walks + test_walks, progress_per=2)\n",
    "model.train(train_walks, total_examples = model.corpus_count, epochs=20, report_delay=1)"
   ]
  },
  {
   "cell_type": "code",
   "execution_count": 7,
   "metadata": {},
   "outputs": [],
   "source": [
    "train_graph_feat = model.wv[train_nodes]\n",
    "test_graph_feat = model.wv[test_nodes]\n",
    "\n",
    "train_graph_dict = dict(zip(train_nodes, train_graph_feat))\n",
    "test_graph_dict = dict(zip(test_nodes, test_graph_feat))"
   ]
  },
  {
   "cell_type": "code",
   "execution_count": 8,
   "metadata": {},
   "outputs": [],
   "source": [
    "# Map the nodes with their mass weight\n",
    "def map_val(row, mass_map):\n",
    "    return mass_map[row[0]]\n",
    "# Map all customers/source\n",
    "# Training data\n",
    "train_customer_vec = np.apply_along_axis(map_val, 1, train_df[\"customer\"].values.reshape(-1, 1),\\\n",
    "                                         train_graph_dict)\n",
    "# Test data\n",
    "test_customer_vec = np.apply_along_axis(map_val, 1, test_df[\"customer\"].values.reshape(-1, 1),\\\n",
    "                                        test_graph_dict)\n",
    "# Map all merchants/targets\n",
    "# Training data\n",
    "train_merchant_vec = np.apply_along_axis(map_val, 1, train_df[\"merchant\"].values.reshape(-1, 1),\\\n",
    "                                         train_graph_dict)\n",
    "# Test data\n",
    "test_merchant_vec = np.apply_along_axis(map_val, 1, test_df[\"merchant\"].values.reshape(-1, 1),\\\n",
    "                                        test_graph_dict)\n",
    "# Select the required columns\n",
    "train_data = train_df[[\"step\", \"age\", \"category\", \"amount_cat\", \"fraud\"]]\n",
    "test_data = test_df[[\"step\", \"age\", \"category\", \"amount_cat\", \"fraud\"]]"
   ]
  },
  {
   "cell_type": "code",
   "execution_count": 9,
   "metadata": {},
   "outputs": [],
   "source": [
    "cat_cols = [\"step\", \"age\", \"category\", \"amount_cat\"]\n",
    "\n",
    "X_train = train_data[[\"step\", \"age\", \"category\", \"amount_cat\"]].values\n",
    "y_train = train_data[\"fraud\"].values\n",
    "\n",
    "X_test = test_data[[\"step\", \"age\", \"category\", \"amount_cat\"]].values\n",
    "y_test = test_data[\"fraud\"].values\n",
    "\n",
    "X_train_enc = np.array([[None] * len(cat_cols)] * X_train.shape[0])\n",
    "# Transform categorical columns for training data\n",
    "label_ens = []\n",
    "for i in range(0, len(cat_cols)):\n",
    "    en = LabelEncoder()\n",
    "    X_train_enc[:, i] = en.fit_transform(X_train[:, i])\n",
    "    label_ens.insert(i, en)\n",
    "\n",
    "one_hot_en = OneHotEncoder(handle_unknown='ignore')\n",
    "X_train_arr = hstack((one_hot_en.fit_transform(X_train_enc[:, 0:len(cat_cols)]),\\\n",
    "                     train_customer_vec, train_merchant_vec))\n",
    "\n",
    "X_test_enc = np.array([[None] * len(cat_cols)] * X_test.shape[0])\n",
    "# Transform categorical columns for test data\n",
    "for i in range(0, len(cat_cols)):\n",
    "    X_test_enc[:, i] = label_ens[i].transform(X_test[:, i])\n",
    "\n",
    "X_test_arr = hstack((one_hot_en.transform(X_test_enc[:, 0:len(cat_cols)]),\\\n",
    "                    test_customer_vec, test_merchant_vec))"
   ]
  },
  {
   "cell_type": "code",
   "execution_count": 10,
   "metadata": {},
   "outputs": [
    {
     "data": {
      "text/plain": [
       "XGBClassifier(base_score=0.5, booster='gbtree', colsample_bylevel=1,\n",
       "              colsample_bynode=1, colsample_bytree=1, gamma=0,\n",
       "              learning_rate=0.1, max_delta_step=0, max_depth=3,\n",
       "              min_child_weight=1, missing=None, n_estimators=100, n_jobs=1,\n",
       "              nthread=None, objective='binary:logistic', random_state=0,\n",
       "              reg_alpha=0, reg_lambda=1, scale_pos_weight=1, seed=None,\n",
       "              silent=None, subsample=1, verbosity=1)"
      ]
     },
     "execution_count": 10,
     "metadata": {},
     "output_type": "execute_result"
    }
   ],
   "source": [
    "# Resampling to balance the classes\n",
    "sm = SMOTE(random_state=42)\n",
    "X_res, y_res = sm.fit_resample(X_train_arr, y_train)\n",
    "\n",
    "xgb_no_res = xgb.XGBClassifier()\n",
    "xgb_no_res.fit(X_train_arr, y_train)\n",
    "\n",
    "xgb_res = xgb.XGBClassifier()\n",
    "xgb_res.fit(X_res, y_res)"
   ]
  },
  {
   "cell_type": "code",
   "execution_count": 11,
   "metadata": {},
   "outputs": [
    {
     "name": "stdout",
     "output_type": "stream",
     "text": [
      "Model trained without Sampling:\n",
      "Recall score for the model is 0.6492\n",
      "Precision score for the model is 1.0\n",
      "F1 score for the base model is 0.7873\n",
      "TP: 4674\tFP: 0\n",
      "FN: 2526\tTN: 0\n",
      "\n",
      "Model trained after Sampling:\n",
      "Recall score for the base model is 0.9831\n",
      "Precision score for the base model is 1.0\n",
      "F1 score for the base model is 0.9915\n",
      "TP: 7078\tFP: 0\n",
      "FN: 122\tTN: 0\n"
     ]
    }
   ],
   "source": [
    "print(\"Model trained without Sampling:\")\n",
    "y_pred = xgb_no_res.predict(X_test_arr)\n",
    "recall = recall_score(y_test, y_pred, average=\"binary\")\n",
    "precision = precision_score(y_test, y_pred, average=\"binary\")\n",
    "f1 = f1_score(y_test, y_pred, average=\"binary\")\n",
    "tn, fp, fn, tp = confusion_matrix(y_test, y_pred).ravel()\n",
    "print(\"Recall score for the model is {0}\".format(round(recall, 4)))\n",
    "print(\"Precision score for the model is {0}\".format(round(precision, 4)))\n",
    "print(\"F1 score for the base model is {0}\".format(round(f1, 4)))\n",
    "print(\"TP: {0}\\tFP: {1}\\nFN: {2}\\tTN: {3}\".format(tp, fp, fn, tn))\n",
    "\n",
    "print(\"\\nModel trained after Sampling:\")\n",
    "y_pred = xgb_res.predict(X_test_arr)\n",
    "recall = recall_score(y_test, y_pred, average=\"binary\")\n",
    "precision = precision_score(y_test, y_pred, average=\"binary\")\n",
    "f1 = f1_score(y_test, y_pred, average=\"binary\")\n",
    "tn, fp, fn, tp = confusion_matrix(y_test, y_pred).ravel()\n",
    "print(\"Recall score for the base model is {0}\".format(round(recall, 4)))\n",
    "print(\"Precision score for the base model is {0}\".format(round(precision, 4)))\n",
    "print(\"F1 score for the base model is {0}\".format(round(f1, 4)))\n",
    "print(\"TP: {0}\\tFP: {1}\\nFN: {2}\\tTN: {3}\".format(tp, fp, fn, tn))"
   ]
  },
  {
   "cell_type": "code",
   "execution_count": null,
   "metadata": {},
   "outputs": [],
   "source": []
  }
 ],
 "metadata": {
  "colab": {
   "collapsed_sections": [],
   "name": "Untitled0.ipynb",
   "provenance": [],
   "toc_visible": true
  },
  "kernelspec": {
   "display_name": "Python 3",
   "language": "python",
   "name": "python3"
  },
  "language_info": {
   "codemirror_mode": {
    "name": "ipython",
    "version": 3
   },
   "file_extension": ".py",
   "mimetype": "text/x-python",
   "name": "python",
   "nbconvert_exporter": "python",
   "pygments_lexer": "ipython3",
   "version": "3.6.9"
  }
 },
 "nbformat": 4,
 "nbformat_minor": 1
}
